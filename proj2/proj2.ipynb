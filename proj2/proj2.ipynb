{
 "cells": [
  {
   "cell_type": "code",
   "execution_count": null,
   "metadata": {
    "deletable": false,
    "editable": false
   },
   "outputs": [],
   "source": [
    "# Initialize Otter\n",
    "import otter\n",
    "grader = otter.Notebook(\"proj2.ipynb\")"
   ]
  },
  {
   "cell_type": "markdown",
   "metadata": {},
   "source": [
    "# Project 2: Query Performance\n",
    "## Due Date: Friday 03/12, 11:59 PM\n",
    "## Assignment Details\n",
    "In this project, we will explore how the database system optimizes query execution and how users can futher tune the performance of their queries.\n",
    "\n",
    "This project works with the Lahman's Baseball Database, an open source collection of baseball statistics from 1871 to 2020. It contains a variety of data, like batting statistics, team stats, managerial records, Hall of Fame records, and much more.\n",
    "\n",
    "**Note:** If at any point during the project, the internal state of the database or its tables have been modified in an undesirable way (i.e. a modification not resulting from the instructions of a question), restart your kernel and clear output and simply re-run the notebook as normal. This will shutdown you current connection to the database, which will prevent the issue of multiple connections to the database at any given point, and when re-running the notebook you will create a fresh database based on the provided Postgres dump.\n",
    "\n",
    "## Scoring Breakdown\n",
    "Question | Points\n",
    "--- | ---\n",
    "1a\t| 1\n",
    "1bi\t| 1\n",
    "1bii\t| 2\n",
    "1c\t| 1\n",
    "1di\t| 2\n",
    "1dii\t| 1\n",
    "1ei\t| 1\n",
    "1eii\t| 1\n",
    "1eiii\t| 1\n",
    "1eiv\t| 2\n",
    "1ev\t| 2\n",
    "2a\t| 1\n",
    "2b\t| 1\n",
    "2c\t| 2\n",
    "2d\t| 2\n",
    "3a\t| 2\n",
    "3bi\t| 1\n",
    "3bii |\t2\n",
    "3ci\t| 1\n",
    "3cii\t| 2\n",
    "4a\t| 2\n",
    "4b\t| 1\n",
    "4c\t| 1\n",
    "4di\t| 2\n",
    "4dii |\t2\n",
    "4ei\t| 2\n",
    "4eii | \t1\n",
    "4eiii |\t2\n",
    "4eiv |\t1\n",
    "4ev |\t1\n",
    "4evi |\t2\n",
    "4evii |\t2\n",
    "5a | 2\n",
    "5b | 2\n",
    "5c | 1\n",
    "5d | 2\n",
    "6a | 2\n",
    "6b | 1\n",
    "6c | 1\n",
    "6d | 2\n",
    "6e | 2\n",
    "7a | 1\n",
    "7b | 1\n",
    "8ai | 0\n",
    "8aii | 1\n",
    "8aiii | 1\n",
    "8b | 1\n",
    "8c | 1\n",
    "8d | 2\n",
    "8e | 1\n",
    "**Total** | 72"
   ]
  },
  {
   "cell_type": "code",
   "execution_count": 1,
   "metadata": {},
   "outputs": [],
   "source": [
    "# Run this cell to set up imports\n",
    "import numpy as np\n",
    "import pandas as pd"
   ]
  },
  {
   "cell_type": "markdown",
   "metadata": {},
   "source": [
    "## Getting Connected\n",
    "Similar to Project 1, we will be using the `ipython-sql` library to connect this notebook to a PostgreSQL database server on your JupyterHub account. Run the following cell to initiate the connection."
   ]
  },
  {
   "cell_type": "code",
   "execution_count": 2,
   "metadata": {},
   "outputs": [],
   "source": [
    "%reload_ext sql\n",
    "%sql postgresql://jovyan@127.0.0.1:5432/postgres"
   ]
  },
  {
   "cell_type": "markdown",
   "metadata": {},
   "source": [
    "## Setting up the Database\n",
    "The following cell will create the `baseball` database (if needed), unzip the Postgres dump of the Lahman's Baseball Database, populate the `baseball` database with the desired tables and data, and finally display all databases associated with the Postgres instance. After running the cell, you should see the `baseball` database in the generated list of databases outputted by `%sql \\l`."
   ]
  },
  {
   "cell_type": "code",
   "execution_count": 3,
   "metadata": {},
   "outputs": [],
   "source": [
    "!psql -h localhost -c 'DROP DATABASE IF EXISTS baseball'\n",
    "!psql -h localhost -c 'CREATE DATABASE baseball'\n",
    "!gzip -dc data/lahman.pgdump.gz | psql -h localhost -c -d baseball -f -\n",
    "!psql -h localhost -c 'SET max_parallel_workers_per_gather = 0;'\n",
    "%sql \\l"
   ]
  },
  {
   "cell_type": "markdown",
   "metadata": {},
   "source": [
    "Now, run the following cell to connect to the `baseball` database. There should be no errors after running the following cell."
   ]
  },
  {
   "cell_type": "code",
   "execution_count": 4,
   "metadata": {},
   "outputs": [],
   "source": [
    "%sql postgresql://jovyan@127.0.0.1:5432/baseball"
   ]
  },
  {
   "cell_type": "markdown",
   "metadata": {},
   "source": [
    "To ensure that the connection to the database has been established, let's try grabbing the first 5 rows from the `halloffame` table."
   ]
  },
  {
   "cell_type": "code",
   "execution_count": 5,
   "metadata": {},
   "outputs": [],
   "source": [
    "%%sql\n",
    "SELECT * FROM halloffame LIMIT 5"
   ]
  },
  {
   "cell_type": "markdown",
   "metadata": {},
   "source": [
    "Run the following cell for grading purposes."
   ]
  },
  {
   "cell_type": "code",
   "execution_count": 6,
   "metadata": {},
   "outputs": [],
   "source": [
    "!mkdir -p results"
   ]
  },
  {
   "cell_type": "markdown",
   "metadata": {},
   "source": [
    "## Table Descriptions\n",
    "In its entirety the Lahman's Baseball Database contains 27 tables containing a variety of statistics for players, teams, games, schools, etc. For simplicity, this project will focus on a subset of the tables:\n",
    "* `appearances`: details on the positions each player appeared at\n",
    "* `batting`: batting statistics for each player\n",
    "* `collegeplaying`: list of players and the colleges they attended\n",
    "* `halloffame`: Hall of Fame voting data\n",
    "* `people`: player information (name, date of birth, and biographical info)\n",
    "* `salaries`: player salary data\n",
    "* `schools`: list of colleges that players attended"
   ]
  },
  {
   "cell_type": "markdown",
   "metadata": {},
   "source": [
    "## Question 1: Queries and Views\n",
    "### Question 1a:\n",
    "Write a query that finds `namefirst`, `namelast`, `playerid` and `yearid` of all people who were successfully inducted into the Hall of Fame. **Note**: Your query should **not** use any sub-queries."
   ]
  },
  {
   "cell_type": "code",
   "execution_count": 7,
   "metadata": {},
   "outputs": [],
   "source": [
    "%%sql result_1a <<\n",
    "..."
   ]
  },
  {
   "cell_type": "code",
   "execution_count": 8,
   "metadata": {},
   "outputs": [],
   "source": [
    "# Do not delete/edit this cell\n",
    "result_1a.DataFrame().sort_values(['playerid', 'yearid']).to_csv('results/result_1a.csv', index=False)"
   ]
  },
  {
   "cell_type": "code",
   "execution_count": null,
   "metadata": {
    "deletable": false,
    "editable": false
   },
   "outputs": [],
   "source": [
    "grader.check(\"q1a\")"
   ]
  },
  {
   "cell_type": "markdown",
   "metadata": {},
   "source": [
    "### Question 1b:\n",
    "In this question, we will compare the query you wrote in `Question 1a` against the provided query in `Question 1bi` by inspecting the query plans (specifically, looking at the execution time, cost, and overall query plan structure). \n",
    "\n",
    "__Note__: To inspect the query plan for a given query, create a variable storing the query as a string and invoke a `psql` shell command to `explain analyze` the query: \n",
    "\n",
    "`your_variable = \"__REPLACE_ME_WITH_QUERY__\"`\n",
    "\n",
    "`!psql -h localhost -d baseball -c \"explain analyze $your_variable\"`\n",
    "\n",
    "See the subsequent cells for an example of how to display the query plan.\n",
    "\n",
    "#### Question 1bi: \n",
    "Inspect the query plan for `provided_query` and the query you wrote in `Question 1a`. Record the execution time and cost for each query."
   ]
  },
  {
   "cell_type": "code",
   "execution_count": 11,
   "metadata": {},
   "outputs": [],
   "source": [
    "%%sql provided_query <<\n",
    "SELECT namefirst, namelast, p.playerid, yearid\n",
    "FROM people AS p, (SELECT * FROM halloffame WHERE inducted = 'Y') AS hof \n",
    "WHERE p.playerid = hof.playerid;"
   ]
  },
  {
   "cell_type": "code",
   "execution_count": 12,
   "metadata": {},
   "outputs": [],
   "source": [
    "provided_query_str = \"SELECT namefirst, namelast, p.playerid, yearid FROM people AS p, (SELECT * FROM halloffame WHERE inducted = 'Y') AS hof WHERE hof.inducted = 'Y' AND p.playerid = hof.playerid;\"\n",
    "!psql -h localhost -d baseball -c \"explain analyze $provided_query_str\""
   ]
  },
  {
   "cell_type": "code",
   "execution_count": 13,
   "metadata": {},
   "outputs": [],
   "source": [
    "inducted_hof_query_str = ...\n",
    "!psql -h localhost -d baseball -c \"explain analyze $inducted_hof_query_str\""
   ]
  },
  {
   "cell_type": "code",
   "execution_count": 14,
   "metadata": {},
   "outputs": [],
   "source": [
    "provided_query_cost = ...\n",
    "provided_query_timing = ...\n",
    "your_query_cost = ...\n",
    "your_query_timing = ..."
   ]
  },
  {
   "cell_type": "code",
   "execution_count": null,
   "metadata": {
    "deletable": false,
    "editable": false
   },
   "outputs": [],
   "source": [
    "grader.check(\"q1bi\")"
   ]
  },
  {
   "cell_type": "markdown",
   "metadata": {
    "deletable": false,
    "editable": false
   },
   "source": [
    "#### Question 1bii:\n",
    "Given your findings from inspecting the query plans of the two queries, answer the following question. Assign the variable `q1b_part2` to a list of answer choices which are true statements.\n",
    "\n",
    "1. Consider the following statements:\n",
    "    1. Both the queries have the same cost.\n",
    "    1. The provided query has a faster execution time because it makes use of a subquery.\n",
    "    1. The query you wrote has a faster execution time because it does not make use a subquery.\n",
    "    1. The provided query has less cost because it makes use of a subquery.\n",
    "    1. The query you wrote has less cost because it does not make use a subquery.\n",
    "    1. The queries have the same output.\n",
    "    1. The queries do not have the same output.\n",
    "    \n",
    "**Note:** Your answer should look like `q1b_part2 = ['A', 'B']`\n",
    "\n",
    "<!--\n",
    "BEGIN QUESTION\n",
    "name: q1bii\n",
    "points: 2\n",
    "-->"
   ]
  },
  {
   "cell_type": "code",
   "execution_count": 17,
   "metadata": {},
   "outputs": [],
   "source": [
    "q1b_part2 = ..."
   ]
  },
  {
   "cell_type": "code",
   "execution_count": null,
   "metadata": {
    "deletable": false,
    "editable": false
   },
   "outputs": [],
   "source": [
    "grader.check(\"q1bii\")"
   ]
  },
  {
   "cell_type": "markdown",
   "metadata": {},
   "source": [
    "### Question 1c:\n",
    "Write a query that creates a view named `inducted_hof_ca` of the people who were successfully inducted into the Hall of Fame and played in college at a school located in California. For each player, return their `namefirst`, `namelast`, `playerid`, `schoolid`, and `yearid` ordered by the `yearid` and then the `playerid`. \n",
    "\n",
    "**Note**: For this query, `yearid` refers to player's year of induction into the Hall of Fame."
   ]
  },
  {
   "cell_type": "code",
   "execution_count": 20,
   "metadata": {},
   "outputs": [],
   "source": [
    "%%sql result_1c <<\n",
    "DROP VIEW IF EXISTS inducted_hof_ca;\n",
    "CREATE VIEW inducted_hof_ca AS\n",
    "...\n",
    ";\n",
    "SELECT * FROM inducted_hof_ca;"
   ]
  },
  {
   "cell_type": "code",
   "execution_count": 21,
   "metadata": {},
   "outputs": [],
   "source": [
    "# Do not delete/edit this cell\n",
    "result_1c.DataFrame().sort_values(['playerid', 'schoolid', 'yearid']).to_csv('results/result_1c.csv', index=False)"
   ]
  },
  {
   "cell_type": "code",
   "execution_count": null,
   "metadata": {
    "deletable": false,
    "editable": false
   },
   "outputs": [],
   "source": [
    "grader.check(\"q1c\")"
   ]
  },
  {
   "cell_type": "markdown",
   "metadata": {},
   "source": [
    "### Question 1d:\n",
    "For this question, we want to compute the count of players who were inducted into the Hall of Fame and played baseball at a college in California for each `schoolid` and `yearid` combination ordered by ascending `yearid`.\n",
    "\n",
    "#### Question 1di:\n",
    "Write two queries that accomplish this task -- one query using the view you created in the `Question 1c` and one query that does not use the view, common table expressions (CTEs), or any sub-queries."
   ]
  },
  {
   "cell_type": "code",
   "execution_count": 24,
   "metadata": {},
   "outputs": [],
   "source": [
    "%%sql with_view <<\n",
    "..."
   ]
  },
  {
   "cell_type": "code",
   "execution_count": 25,
   "metadata": {},
   "outputs": [],
   "source": [
    "%%sql without_view <<\n",
    "..."
   ]
  },
  {
   "cell_type": "code",
   "execution_count": 26,
   "metadata": {},
   "outputs": [],
   "source": [
    "# Do not delete/edit this cell\n",
    "with_view.DataFrame().sort_values(['schoolid', 'yearid']).to_csv('results/result_1di_view.csv', index=False)\n",
    "without_view.DataFrame().sort_values(['schoolid', 'yearid']).to_csv('results/result_1di_no_view.csv', index=False)"
   ]
  },
  {
   "cell_type": "code",
   "execution_count": null,
   "metadata": {
    "deletable": false,
    "editable": false
   },
   "outputs": [],
   "source": [
    "grader.check(\"q1di\")"
   ]
  },
  {
   "cell_type": "markdown",
   "metadata": {},
   "source": [
    "#### Question 1dii:\n",
    "Fill in your queries from `Question 1di` and inspect the query plans for the two queries. Record the execution time and cost for each query."
   ]
  },
  {
   "cell_type": "code",
   "execution_count": 32,
   "metadata": {},
   "outputs": [],
   "source": [
    "with_view_query_str = ...\n",
    "!psql -h localhost -d baseball -c \"explain analyze $with_view_query_str\""
   ]
  },
  {
   "cell_type": "code",
   "execution_count": 33,
   "metadata": {},
   "outputs": [],
   "source": [
    "without_view_query_str = ...\n",
    "!psql -h localhost -d baseball -c\"explain analyze $without_view_query_str\""
   ]
  },
  {
   "cell_type": "code",
   "execution_count": 34,
   "metadata": {},
   "outputs": [],
   "source": [
    "with_view_cost = ...\n",
    "with_view_timing = ...\n",
    "without_view_cost = ...\n",
    "without_view_timing = ..."
   ]
  },
  {
   "cell_type": "code",
   "execution_count": null,
   "metadata": {
    "deletable": false,
    "editable": false
   },
   "outputs": [],
   "source": [
    "grader.check(\"q1dii\")"
   ]
  },
  {
   "cell_type": "markdown",
   "metadata": {},
   "source": [
    "### Question 1e:\n",
    "#### Question 1ei:\n",
    "Now, let's try creating a materialized view named `inducted_hof_ca_mat` instead of the regular view from `Question 1c`."
   ]
  },
  {
   "cell_type": "code",
   "execution_count": 38,
   "metadata": {},
   "outputs": [],
   "source": [
    "%%sql inducted_hof_ca_materialized <<\n",
    "DROP MATERIALIZED VIEW IF EXISTS inducted_hof_ca_mat;\n",
    "CREATE MATERIALIZED VIEW inducted_hof_ca_mat AS\n",
    "...\n",
    ";\n",
    "SELECT * FROM inducted_hof_ca_mat;"
   ]
  },
  {
   "cell_type": "code",
   "execution_count": 39,
   "metadata": {},
   "outputs": [],
   "source": [
    "# Do not delete/edit this cell\n",
    "inducted_hof_ca_materialized.DataFrame().sort_values(['playerid', 'schoolid', 'yearid']).to_csv('results/result_1ei.csv', index=False)"
   ]
  },
  {
   "cell_type": "code",
   "execution_count": null,
   "metadata": {
    "deletable": false,
    "editable": false
   },
   "outputs": [],
   "source": [
    "grader.check(\"q1ei\")"
   ]
  },
  {
   "cell_type": "markdown",
   "metadata": {},
   "source": [
    "#### Question 1eii:\n",
    "\n",
    "Now, rewrite the query from `Question 1d` to use the materialized view `inducted_hof_ca_mat`."
   ]
  },
  {
   "cell_type": "code",
   "execution_count": 42,
   "metadata": {},
   "outputs": [],
   "source": [
    "%%sql with_materialized_view <<\n",
    "..."
   ]
  },
  {
   "cell_type": "code",
   "execution_count": 43,
   "metadata": {},
   "outputs": [],
   "source": [
    "# Do not delete/edit this cell\n",
    "with_materialized_view.DataFrame().sort_values(['schoolid', 'yearid']).to_csv('results/result_1eii.csv', index=False)"
   ]
  },
  {
   "cell_type": "code",
   "execution_count": null,
   "metadata": {
    "deletable": false,
    "editable": false
   },
   "outputs": [],
   "source": [
    "grader.check(\"q1eii\")"
   ]
  },
  {
   "cell_type": "markdown",
   "metadata": {},
   "source": [
    "#### Question 1eiii:\n",
    "Inspect the query plan and record the execution time and cost of the query that uses the materialized view."
   ]
  },
  {
   "cell_type": "code",
   "execution_count": 46,
   "metadata": {},
   "outputs": [],
   "source": [
    "with_materialized_view_query_str = ...\n",
    "!psql -h localhost -d baseball -c \"explain analyze $with_materialized_view_query_str\""
   ]
  },
  {
   "cell_type": "code",
   "execution_count": 47,
   "metadata": {},
   "outputs": [],
   "source": [
    "with_materialized_view_cost = ...\n",
    "with_materialized_view_timing = ..."
   ]
  },
  {
   "cell_type": "code",
   "execution_count": null,
   "metadata": {
    "deletable": false,
    "editable": false
   },
   "outputs": [],
   "source": [
    "grader.check(\"q1eiii\")"
   ]
  },
  {
   "cell_type": "markdown",
   "metadata": {
    "deletable": false,
    "editable": false
   },
   "source": [
    "#### Question 1eiv:\n",
    "Given your findings from inspecting the query plans of queries using a view, no view, and a materialized view, answer the following question. Assign the variable `q1e_part4` to a list of all statements which are true.\n",
    "\n",
    "1. Consider the following statements:\n",
    "    1. Views will reduce the execution time and the cost of a query.\n",
    "    1. Views will reduce the execution time of a query, but not the cost.\n",
    "    1. Views will reduce the cost of a query, but not the execution time.\n",
    "    1. Materialized views reduce the execution time and the cost of a query.\n",
    "    1. Materialized views reduce the execution time, but not cost of a query.\n",
    "    1. Materialized views reduce the cost of a query, but not the execution time.\n",
    "    1. Materialized views will result in the same query plan as a query using views.\n",
    "    1. Materialized views and views take the same time to create.\n",
    "    1. Materialized views take less time to create than a view.\n",
    "    1. Materialized views take more time to create than a view.\n",
    "    \n",
    "*Note:* Your answer should look like `q1e_part4 = ['A', 'B']`\n",
    "\n",
    "<!--\n",
    "BEGIN QUESTION\n",
    "name: q1eiv\n",
    "points: 2\n",
    "-->"
   ]
  },
  {
   "cell_type": "code",
   "execution_count": 50,
   "metadata": {},
   "outputs": [],
   "source": [
    "q1e_part4 = ..."
   ]
  },
  {
   "cell_type": "code",
   "execution_count": null,
   "metadata": {
    "deletable": false,
    "editable": false
   },
   "outputs": [],
   "source": [
    "grader.check(\"q1eiv\")"
   ]
  },
  {
   "cell_type": "markdown",
   "metadata": {
    "deletable": false,
    "editable": false
   },
   "source": [
    "<!-- BEGIN QUESTION -->\n",
    "\n",
    "#### Question 1ev:\n",
    "\n",
    "Explain your answer to the previous part based on your findings and details from the query plans (your explanation should include why you didn't choose certain options).\n",
    "\n",
    "<!--\n",
    "BEGIN QUESTION\n",
    "name: q1ev\n",
    "manual: true\n",
    "points: 2\n",
    "-->"
   ]
  },
  {
   "cell_type": "markdown",
   "metadata": {},
   "source": [
    "_Type your answer here, replacing this text._"
   ]
  },
  {
   "cell_type": "markdown",
   "metadata": {},
   "source": [
    "<!-- END QUESTION -->\n",
    "\n",
    "\n",
    "\n",
    "## Question 2: Predicate Pushdown\n",
    "In this question, we will explore the impact of predicates on a query's execution, particularly inspecting when the optimizer applies predicates.\n",
    "\n",
    "### Question 2a:\n",
    "Recall the `inducted_hof_ca` created in `Question 1c`. Inspect the query plan for a query that that gets all rows from the view, and record the execution time and cost."
   ]
  },
  {
   "cell_type": "code",
   "execution_count": 53,
   "metadata": {},
   "outputs": [],
   "source": [
    "query_view_str = ...\n",
    "!psql -h localhost -d baseball -c \"explain analyze $query_view_str\""
   ]
  },
  {
   "cell_type": "code",
   "execution_count": 54,
   "metadata": {},
   "outputs": [],
   "source": [
    "query_view_cost = ...\n",
    "query_view_timing = ..."
   ]
  },
  {
   "cell_type": "code",
   "execution_count": null,
   "metadata": {
    "deletable": false,
    "editable": false
   },
   "outputs": [],
   "source": [
    "grader.check(\"q2a\")"
   ]
  },
  {
   "cell_type": "markdown",
   "metadata": {},
   "source": [
    "### Question 2b:\n",
    "Now, add a filter to only return rows from `inducted_hof_ca` where the year is later than 2010. Inspect the query plan and record the execution time and cost."
   ]
  },
  {
   "cell_type": "code",
   "execution_count": 57,
   "metadata": {},
   "outputs": [],
   "source": [
    "%%sql result_2b <<\n",
    "..."
   ]
  },
  {
   "cell_type": "code",
   "execution_count": 58,
   "metadata": {
    "scrolled": true
   },
   "outputs": [],
   "source": [
    "query_view_with_filter_str = ...\n",
    "!psql -h localhost -d baseball -c \"explain analyze $query_view_with_filter_str\""
   ]
  },
  {
   "cell_type": "code",
   "execution_count": 59,
   "metadata": {},
   "outputs": [],
   "source": [
    "query_view_with_filter_cost = ...\n",
    "query_view_with_filter_timing = ..."
   ]
  },
  {
   "cell_type": "code",
   "execution_count": null,
   "metadata": {
    "deletable": false,
    "editable": false
   },
   "outputs": [],
   "source": [
    "grader.check(\"q2b\")"
   ]
  },
  {
   "cell_type": "markdown",
   "metadata": {
    "deletable": false,
    "editable": false
   },
   "source": [
    "### Question 2c:\n",
    "Given your findings from inspecting the query plans of queries from `Question 2a-b`, answer the following question. Assign the variable `q2c` to a list of all statements which are true.\n",
    "\n",
    "1. Consider the following statements:\n",
    "    1. Adding a filter lowered the cost.\n",
    "    1. Adding a filter increased the cost.\n",
    "    1. Adding a filter did not change the cost.\n",
    "    1. Adding a filter increased the execution time.\n",
    "    1. Adding a filter decreased the execution time.\n",
    "    1. Adding a filter did not change the execution time.\n",
    "    1. No statement is true.\n",
    "    \n",
    "    \n",
    "**Note:** Your answer should look like `q2c = ['A', 'B']`\n",
    "\n",
    "<!--\n",
    "BEGIN QUESTION\n",
    "name: q2c\n",
    "points: 2\n",
    "-->"
   ]
  },
  {
   "cell_type": "code",
   "execution_count": 62,
   "metadata": {},
   "outputs": [],
   "source": [
    "q2c = ..."
   ]
  },
  {
   "cell_type": "code",
   "execution_count": null,
   "metadata": {
    "deletable": false,
    "editable": false
   },
   "outputs": [],
   "source": [
    "grader.check(\"q2c\")"
   ]
  },
  {
   "cell_type": "markdown",
   "metadata": {
    "deletable": false,
    "editable": false
   },
   "source": [
    "<!-- BEGIN QUESTION -->\n",
    "\n",
    "#### Question 2d:\n",
    "\n",
    "Explain your answer based on your findings and details from the query plans (your explanation should include why you didn't choose certain options).\n",
    "\n",
    "<!--\n",
    "BEGIN QUESTION\n",
    "name: q2d\n",
    "manual: true\n",
    "points: 2\n",
    "-->"
   ]
  },
  {
   "cell_type": "markdown",
   "metadata": {},
   "source": [
    "_Type your answer here, replacing this text._"
   ]
  },
  {
   "cell_type": "markdown",
   "metadata": {},
   "source": [
    "<!-- END QUESTION -->\n",
    "\n",
    "\n",
    "\n",
    "## Question 3: Joins\n",
    "### Question 3a:\n",
    "Perform a left, right, inner, and full join on the `people` and `collegeplaying` tables on the `playerid` column and inspect their respective query plans (in particular, look at the number of rows resulting from the query)."
   ]
  },
  {
   "cell_type": "code",
   "execution_count": 65,
   "metadata": {},
   "outputs": [],
   "source": [
    "%%sql left_join <<\n",
    "..."
   ]
  },
  {
   "cell_type": "code",
   "execution_count": 66,
   "metadata": {},
   "outputs": [],
   "source": [
    "left_join_query_str = ...\n",
    "!psql -h localhost -d baseball -c \"explain analyze $left_join_query_str\""
   ]
  },
  {
   "cell_type": "code",
   "execution_count": 67,
   "metadata": {},
   "outputs": [],
   "source": [
    "%%sql right_join <<\n",
    "..."
   ]
  },
  {
   "cell_type": "code",
   "execution_count": 68,
   "metadata": {},
   "outputs": [],
   "source": [
    "right_join_query_str = ...\n",
    "!psql -h localhost -d baseball -c \"explain analyze $right_join_query_str\""
   ]
  },
  {
   "cell_type": "code",
   "execution_count": 69,
   "metadata": {},
   "outputs": [],
   "source": [
    "%%sql inner_join <<\n",
    "..."
   ]
  },
  {
   "cell_type": "code",
   "execution_count": 70,
   "metadata": {},
   "outputs": [],
   "source": [
    "inner_join_query_str = ...\n",
    "!psql -h localhost -d baseball -c \"explain analyze $inner_join_query_str\""
   ]
  },
  {
   "cell_type": "code",
   "execution_count": 71,
   "metadata": {},
   "outputs": [],
   "source": [
    "%%sql full_join <<\n",
    "..."
   ]
  },
  {
   "cell_type": "code",
   "execution_count": 72,
   "metadata": {},
   "outputs": [],
   "source": [
    "full_join_query_str = ...\n",
    "!psql -h localhost -d baseball -c \"explain analyze $full_join_query_str\""
   ]
  },
  {
   "cell_type": "code",
   "execution_count": 73,
   "metadata": {},
   "outputs": [],
   "source": [
    "# Do not delete/edit this cell\n",
    "left_join.DataFrame().iloc[:, 1:].sort_values(['playerid', 'schoolid', 'yearid']).iloc[:1000].to_csv('results/result_3a_left.csv', index=False)\n",
    "right_join.DataFrame().iloc[:, 1:].sort_values(['playerid', 'schoolid', 'yearid']).iloc[:1000].to_csv('results/result_3a_right.csv', index=False)\n",
    "inner_join.DataFrame().iloc[:, 1:].sort_values(['playerid', 'schoolid', 'yearid']).iloc[:1000].to_csv('results/result_3a_inner.csv', index=False)\n",
    "full_join.DataFrame().iloc[:, 1:].sort_values(['playerid', 'schoolid', 'yearid']).iloc[:1000].to_csv('results/result_3a_full.csv', index=False)"
   ]
  },
  {
   "cell_type": "code",
   "execution_count": null,
   "metadata": {
    "deletable": false,
    "editable": false
   },
   "outputs": [],
   "source": [
    "grader.check(\"q3a\")"
   ]
  },
  {
   "cell_type": "markdown",
   "metadata": {
    "deletable": false,
    "editable": false
   },
   "source": [
    "### Question 3b:\n",
    "#### Question 3bi:\n",
    "Given your findings from inspecting the query plan of the different joins, answer the following question. Assign the variable `q3b_part1` to a list of all the options which are true for the proposed statement.\n",
    "\n",
    "1. For the query joining `people` and `collegeplaying` tables on the `playerid`,  the `INNER JOIN` output is the same as:\n",
    "    1. the `LEFT JOIN` output\n",
    "    1. the `RIGHT JOIN` output\n",
    "    1. the `FULL JOIN` output\n",
    "    1. None of the above \n",
    "\n",
    "**Note:** Your answer should be formatted as follows: `q3b_part1 = ['A', 'B']`\n",
    "\n",
    "<!--\n",
    "BEGIN QUESTION\n",
    "name: q3bi\n",
    "points: 1\n",
    "-->"
   ]
  },
  {
   "cell_type": "code",
   "execution_count": 76,
   "metadata": {},
   "outputs": [],
   "source": [
    "q3b_part1 = ..."
   ]
  },
  {
   "cell_type": "code",
   "execution_count": null,
   "metadata": {
    "deletable": false,
    "editable": false
   },
   "outputs": [],
   "source": [
    "grader.check(\"q3bi\")"
   ]
  },
  {
   "cell_type": "markdown",
   "metadata": {
    "deletable": false,
    "editable": false
   },
   "source": [
    "<!-- BEGIN QUESTION -->\n",
    "\n",
    "#### Question 3bii\n",
    "Explain your answer to the previous part. If you did not select answer choice `D`, ensure your explanation discusses if your findings can be generalized for all queries.\n",
    "\n",
    "<!--\n",
    "BEGIN QUESTION\n",
    "name: q3bii\n",
    "manual: true\n",
    "points: 2\n",
    "-->"
   ]
  },
  {
   "cell_type": "markdown",
   "metadata": {},
   "source": [
    "_Type your answer here, replacing this text._"
   ]
  },
  {
   "cell_type": "markdown",
   "metadata": {
    "deletable": false,
    "editable": false
   },
   "source": [
    "<!-- END QUESTION -->\n",
    "\n",
    "#### Question 3ci:\n",
    "Given your findings from inspecting the query plan of the different joins, answer the following question. Assign the variable `q3c_part1` to a list of all options which are true for the proposed statement.\n",
    "\n",
    "1. For the query joining `people` and `collegeplaying` tables on the `playerid`, the `FULL JOIN` output is the same as:\n",
    "    1. the `LEFT JOIN` output\n",
    "    1. the `RIGHT JOIN` output\n",
    "    1. the `INNER JOIN` output\n",
    "    1. None of the above   \n",
    "\n",
    "**Note:** Your answer should be formatted as follows: `q3c_part1 = ['A', 'B']`\n",
    "\n",
    "<!--\n",
    "BEGIN QUESTION\n",
    "name: q3ci\n",
    "points: 1\n",
    "-->"
   ]
  },
  {
   "cell_type": "code",
   "execution_count": 79,
   "metadata": {},
   "outputs": [],
   "source": [
    "q3c_part1 = ..."
   ]
  },
  {
   "cell_type": "code",
   "execution_count": null,
   "metadata": {
    "deletable": false,
    "editable": false
   },
   "outputs": [],
   "source": [
    "grader.check(\"q3ci\")"
   ]
  },
  {
   "cell_type": "markdown",
   "metadata": {
    "deletable": false,
    "editable": false
   },
   "source": [
    "<!-- BEGIN QUESTION -->\n",
    "\n",
    "#### Question 3cii\n",
    "\n",
    "Explain your answer to the previous part. If you did not select answer choice `D`, ensure your explanation discusses if your findings can be generalized for all queries.\n",
    "\n",
    "<!--\n",
    "BEGIN QUESTION\n",
    "name: q3cii\n",
    "manual: true\n",
    "points: 2\n",
    "-->"
   ]
  },
  {
   "cell_type": "markdown",
   "metadata": {},
   "source": [
    "_Type your answer here, replacing this text._"
   ]
  },
  {
   "cell_type": "markdown",
   "metadata": {},
   "source": [
    "<!-- END QUESTION -->\n",
    "\n",
    "\n",
    "\n",
    "### Question 4: Indexes\n",
    "\n",
    "#### Question 4a:\n",
    "Write a query that outputs the `playerid` and average `salary` for each player that only batted in 10 games (the number of games in which a player batted can be found in the `g_batting` column of the `appearances` table). Inspect the query plan and record the execution time and cost."
   ]
  },
  {
   "cell_type": "code",
   "execution_count": 82,
   "metadata": {},
   "outputs": [],
   "source": [
    "%%sql result_4a <<\n",
    "..."
   ]
  },
  {
   "cell_type": "code",
   "execution_count": 83,
   "metadata": {},
   "outputs": [],
   "source": [
    "# Do not delete/edit this cell\n",
    "result_4a.DataFrame().sort_values('playerid').to_csv('results/result_4a.csv', index=False)"
   ]
  },
  {
   "cell_type": "code",
   "execution_count": null,
   "metadata": {
    "deletable": false,
    "editable": false
   },
   "outputs": [],
   "source": [
    "grader.check(\"q4ai\")"
   ]
  },
  {
   "cell_type": "code",
   "execution_count": 86,
   "metadata": {},
   "outputs": [],
   "source": [
    "result_4a_query_str = ...\n",
    "!psql -h localhost -d baseball -c \"explain analyze $result_4a_query_str\""
   ]
  },
  {
   "cell_type": "code",
   "execution_count": 87,
   "metadata": {},
   "outputs": [],
   "source": [
    "result_4a_cost = ...\n",
    "result_4a_timing = ..."
   ]
  },
  {
   "cell_type": "code",
   "execution_count": null,
   "metadata": {
    "deletable": false,
    "editable": false
   },
   "outputs": [],
   "source": [
    "grader.check(\"q4aii\")"
   ]
  },
  {
   "cell_type": "markdown",
   "metadata": {},
   "source": [
    "### Question 4b:\n",
    "Add an index with name `g_batting_idx` on the `g_batting` column of the `appearances` table."
   ]
  },
  {
   "cell_type": "code",
   "execution_count": 90,
   "metadata": {},
   "outputs": [],
   "source": [
    "%%sql result_4b <<\n",
    "..."
   ]
  },
  {
   "cell_type": "markdown",
   "metadata": {},
   "source": [
    "Now, re-inspect the query plan of the query from `Question 4a` and record its execution time and cost."
   ]
  },
  {
   "cell_type": "code",
   "execution_count": 91,
   "metadata": {},
   "outputs": [],
   "source": [
    "!psql -h localhost -d baseball -c \"explain analyze $result_4a_query_str\""
   ]
  },
  {
   "cell_type": "code",
   "execution_count": 92,
   "metadata": {},
   "outputs": [],
   "source": [
    "result_4b_cost = ...\n",
    "result_4b_timing = ..."
   ]
  },
  {
   "cell_type": "code",
   "execution_count": null,
   "metadata": {
    "deletable": false,
    "editable": false
   },
   "outputs": [],
   "source": [
    "grader.check(\"q4b\")"
   ]
  },
  {
   "cell_type": "markdown",
   "metadata": {},
   "source": [
    "In the following question, we will explore adding a different index and evaluating the query from `Question 4a`. To avoid any interference by the `g_batting_idx` index, drop the index before moving onto the next question."
   ]
  },
  {
   "cell_type": "code",
   "execution_count": 95,
   "metadata": {},
   "outputs": [],
   "source": [
    "%%sql \n",
    "..."
   ]
  },
  {
   "cell_type": "markdown",
   "metadata": {},
   "source": [
    "### Question 4c:\n",
    "Write a query to add an index with name `salary_idx` on the `salary` column of the `salaries` table."
   ]
  },
  {
   "cell_type": "code",
   "execution_count": 96,
   "metadata": {},
   "outputs": [],
   "source": [
    "%%sql result_4c <<\n",
    "..."
   ]
  },
  {
   "cell_type": "markdown",
   "metadata": {},
   "source": [
    "Re-inspect the query plan of the query from the `Question 4a` and record its execution time and cost."
   ]
  },
  {
   "cell_type": "code",
   "execution_count": 97,
   "metadata": {},
   "outputs": [],
   "source": [
    "!psql -h localhost -d baseball -c \"explain analyze $result_4a_query_str\""
   ]
  },
  {
   "cell_type": "code",
   "execution_count": 98,
   "metadata": {},
   "outputs": [],
   "source": [
    "result_4c_cost = ...\n",
    "result_4c_timing = ..."
   ]
  },
  {
   "cell_type": "code",
   "execution_count": null,
   "metadata": {
    "deletable": false,
    "editable": false
   },
   "outputs": [],
   "source": [
    "grader.check(\"q4c\")"
   ]
  },
  {
   "cell_type": "markdown",
   "metadata": {
    "deletable": false,
    "editable": false
   },
   "source": [
    "### Question 4d:\n",
    "#### Question 4di:\n",
    "Given your findings from inspecting the query plans with no indexes, an index on `g_batting`, and an index on `salary`, answer the following question. Assign the variable `q4d_part1` to a list of all options which are true for the proposed statement.\n",
    "\n",
    "1. Consider the following statements:\n",
    "    1. Adding the `g_batting` index did not have a significant impact on the query execution time and cost.\n",
    "    1. Adding the `g_batting` index did have a significant impact on the query execution time, but not the cost.\n",
    "    1. Adding the `g_batting` index did have a significant impact on the query cost, but not the execution time.\n",
    "    1. Adding the `g_batting` index did have a significant impact on the query cost and execution time.\n",
    "    1. Adding the `salary` index did not have a significant impact on the query execution time and cost.\n",
    "    1. Adding the `salary` index did have a significant impact on the query execution time, but not the cost.\n",
    "    1. Adding the `salary` index did have a significant impact on the query cost, but not the execution time.\n",
    "    1. Adding the `salary` index did have a significant impact on the query cost and execution time.\n",
    "\n",
    "**Note:** Your answer should be formatted as follows: `q4d_part1 = ['A', 'B']`\n",
    "\n",
    "<!--\n",
    "BEGIN QUESTION\n",
    "name: q4di\n",
    "points: 2\n",
    "-->"
   ]
  },
  {
   "cell_type": "code",
   "execution_count": 101,
   "metadata": {},
   "outputs": [],
   "source": [
    "q4d_part1 = ..."
   ]
  },
  {
   "cell_type": "code",
   "execution_count": null,
   "metadata": {
    "deletable": false,
    "editable": false
   },
   "outputs": [],
   "source": [
    "grader.check(\"q4di\")"
   ]
  },
  {
   "cell_type": "markdown",
   "metadata": {
    "deletable": false,
    "editable": false
   },
   "source": [
    "<!-- BEGIN QUESTION -->\n",
    "\n",
    "#### Question 4dii:\n",
    "\n",
    "Explain your answer based on your findings from inspecting the query plans (your explanation should include why you didn't choose certain options).\n",
    "\n",
    "<!--\n",
    "BEGIN QUESTION\n",
    "name: q4dii\n",
    "manual: true\n",
    "points: 2\n",
    "-->"
   ]
  },
  {
   "cell_type": "markdown",
   "metadata": {},
   "source": [
    "_Type your answer here, replacing this text._"
   ]
  },
  {
   "cell_type": "markdown",
   "metadata": {},
   "source": [
    "<!-- END QUESTION -->\n",
    "\n",
    "\n",
    "\n",
    "In the following question, we will further explore the impact of indexes on query performance. To avoid any interference by the `salary_idx` index, please drop the index before moving onto the next question."
   ]
  },
  {
   "cell_type": "code",
   "execution_count": 104,
   "metadata": {},
   "outputs": [],
   "source": [
    "%%sql \n",
    "..."
   ]
  },
  {
   "cell_type": "markdown",
   "metadata": {},
   "source": [
    "### Question 4e:\n",
    "#### Question 4ei:\n",
    "Write a query that finds the `playerid`, `yearid`, and `salary` for each player that had played 10 games and batted in 10 games. Your query should join the `salaries` and `appearances` table on `yearid`, `teamid`, and `playerid`."
   ]
  },
  {
   "cell_type": "code",
   "execution_count": 105,
   "metadata": {},
   "outputs": [],
   "source": [
    "%%sql result_4ei <<\n",
    "..."
   ]
  },
  {
   "cell_type": "code",
   "execution_count": 106,
   "metadata": {},
   "outputs": [],
   "source": [
    "# Do not delete/edit this cell\n",
    "result_4ei.DataFrame().sort_values(['playerid', 'yearid']).to_csv('results/result_4ei.csv', index=False)"
   ]
  },
  {
   "cell_type": "code",
   "execution_count": null,
   "metadata": {
    "deletable": false,
    "editable": false
   },
   "outputs": [],
   "source": [
    "grader.check(\"q4ei_part1\")"
   ]
  },
  {
   "cell_type": "markdown",
   "metadata": {},
   "source": [
    "Inspect the query plan and record the execution time and cost."
   ]
  },
  {
   "cell_type": "code",
   "execution_count": 109,
   "metadata": {},
   "outputs": [],
   "source": [
    "result_4ei_query_str = ...\n",
    "!psql -h localhost -d baseball -c \"explain analyze $result_4ei_query_str\""
   ]
  },
  {
   "cell_type": "code",
   "execution_count": 110,
   "metadata": {},
   "outputs": [],
   "source": [
    "result_4ei_cost = ...\n",
    "result_4ei_timing = ..."
   ]
  },
  {
   "cell_type": "code",
   "execution_count": null,
   "metadata": {
    "deletable": false,
    "editable": false
   },
   "outputs": [],
   "source": [
    "grader.check(\"q4ei_part2\")"
   ]
  },
  {
   "cell_type": "markdown",
   "metadata": {},
   "source": [
    "#### Question 4eii:\n",
    "Now, let's see the impact of adding an index on the `g_batting` column. Create an index on the `g_batting` column. Re-inspect the query from `Question 4ei` and record the execution time and cost."
   ]
  },
  {
   "cell_type": "code",
   "execution_count": 112,
   "metadata": {
    "scrolled": true
   },
   "outputs": [],
   "source": [
    "%%sql result_4eii << \n",
    "..."
   ]
  },
  {
   "cell_type": "code",
   "execution_count": 113,
   "metadata": {},
   "outputs": [],
   "source": [
    "!psql -h localhost -d baseball -c \"explain analyze $result_4ei_query_str\""
   ]
  },
  {
   "cell_type": "code",
   "execution_count": 114,
   "metadata": {},
   "outputs": [],
   "source": [
    "result_4eii_with_index_cost = ...\n",
    "result_4eii_with_index_timing = ..."
   ]
  },
  {
   "cell_type": "code",
   "execution_count": null,
   "metadata": {
    "deletable": false,
    "editable": false
   },
   "outputs": [],
   "source": [
    "grader.check(\"q4eii\")"
   ]
  },
  {
   "cell_type": "markdown",
   "metadata": {},
   "source": [
    "In the following question, we will further explore the impact of indexes on query performance. To avoid any interference from the index on the `g_batting` column, drop the index before moving onto the next question."
   ]
  },
  {
   "cell_type": "code",
   "execution_count": 117,
   "metadata": {},
   "outputs": [],
   "source": [
    "%%sql \n",
    "..."
   ]
  },
  {
   "cell_type": "markdown",
   "metadata": {},
   "source": [
    "#### Question 4eiii:\n",
    "Write a query that finds the `playerid`, `yearid`, and `salary` for each player that had played 10 games __or__ batted in 10 games. Your query should join the `salaries` and `appearances` table on `yearid`, `teamid`, and `playerid`."
   ]
  },
  {
   "cell_type": "code",
   "execution_count": 118,
   "metadata": {},
   "outputs": [],
   "source": [
    "%%sql result_4eiii <<\n",
    "..."
   ]
  },
  {
   "cell_type": "code",
   "execution_count": 119,
   "metadata": {},
   "outputs": [],
   "source": [
    "# Do not delete/edit this cell\n",
    "result_4eiii.DataFrame().sort_values(['playerid', 'yearid']).to_csv('results/result_4eiii.csv', index=False)"
   ]
  },
  {
   "cell_type": "code",
   "execution_count": null,
   "metadata": {
    "deletable": false,
    "editable": false
   },
   "outputs": [],
   "source": [
    "grader.check(\"q4eiii_part1\")"
   ]
  },
  {
   "cell_type": "code",
   "execution_count": 122,
   "metadata": {},
   "outputs": [],
   "source": [
    "result_4eiii_query_str = ...\n",
    "!psql -h localhost -d baseball -c \"explain analyze $result_4eiii_query_str\""
   ]
  },
  {
   "cell_type": "code",
   "execution_count": 123,
   "metadata": {},
   "outputs": [],
   "source": [
    "result_4eiii_cost = ...\n",
    "result_4eiii_timing = ..."
   ]
  },
  {
   "cell_type": "code",
   "execution_count": null,
   "metadata": {
    "deletable": false,
    "editable": false
   },
   "outputs": [],
   "source": [
    "grader.check(\"q4eiii_part2\")"
   ]
  },
  {
   "cell_type": "markdown",
   "metadata": {},
   "source": [
    "#### Question 4eiv\n",
    "Now, let's see the impact of adding an index on `g_batting` column will have on the query. Re-create the index and re-inspect the query from `Question 4eiii` and record the execution time and cost."
   ]
  },
  {
   "cell_type": "code",
   "execution_count": 125,
   "metadata": {
    "scrolled": true
   },
   "outputs": [],
   "source": [
    "%%sql result_4eiv << \n",
    "..."
   ]
  },
  {
   "cell_type": "code",
   "execution_count": 126,
   "metadata": {},
   "outputs": [],
   "source": [
    "!psql -h localhost -d baseball -c \"explain analyze $result_4eiii_query_str\""
   ]
  },
  {
   "cell_type": "code",
   "execution_count": 127,
   "metadata": {},
   "outputs": [],
   "source": [
    "result_4eiv_with_index_cost = ...\n",
    "result_4eiv_with_index_timing = ..."
   ]
  },
  {
   "cell_type": "code",
   "execution_count": null,
   "metadata": {
    "deletable": false,
    "editable": false
   },
   "outputs": [],
   "source": [
    "grader.check(\"q4eiv\")"
   ]
  },
  {
   "cell_type": "markdown",
   "metadata": {},
   "source": [
    "In the following question, we will further explore the impact of indexes on query performance. To avoid any interference from the index on the `g_batting` column, drop the index before moving onto the next question."
   ]
  },
  {
   "cell_type": "code",
   "execution_count": 130,
   "metadata": {},
   "outputs": [],
   "source": [
    "%%sql \n",
    "..."
   ]
  },
  {
   "cell_type": "markdown",
   "metadata": {},
   "source": [
    "#### Question 4ev:\n",
    "Now, create a multiple column index on `g_batting` and `g_all` called `g_batting_g_all_idx` and record the query execution time and cost."
   ]
  },
  {
   "cell_type": "code",
   "execution_count": 131,
   "metadata": {},
   "outputs": [],
   "source": [
    "%%sql result_4v <<\n",
    "..."
   ]
  },
  {
   "cell_type": "code",
   "execution_count": 132,
   "metadata": {},
   "outputs": [],
   "source": [
    "!psql -h localhost -d baseball -c \"explain analyze $result_4eiii_query_str\""
   ]
  },
  {
   "cell_type": "code",
   "execution_count": 133,
   "metadata": {},
   "outputs": [],
   "source": [
    "result_4ev_multiple_col_index_cost = ...\n",
    "result_4ev_multiple_col_index_timing = ..."
   ]
  },
  {
   "cell_type": "code",
   "execution_count": null,
   "metadata": {
    "deletable": false,
    "editable": false
   },
   "outputs": [],
   "source": [
    "grader.check(\"q4ev\")"
   ]
  },
  {
   "cell_type": "markdown",
   "metadata": {
    "deletable": false,
    "editable": false
   },
   "source": [
    "#### Question 4evi:\n",
    "Given your findings from inspecting the query plans from `Question 4e`, answer the following question. Assign the variable `q4e_part6` to a list of all statements that are true.\n",
    "\n",
    "1. Consider the following statements:\n",
    "    1. Adding an index on a column used in an AND predicate will reduce the query time, but not the execution cost.\n",
    "    1. Adding an index on a column used in an AND predicate will reduce the query cost, but not the execution time.\n",
    "    1. Adding an index on a column used in an AND predicate will reduce the query cost and the execution time.\n",
    "    1. Adding an index on a column used in an OR predicate will reduce the query time, but not the execution cost.\n",
    "    1. Adding an index on a column used in an OR predicate will reduce the query cost, but not the execution time.\n",
    "    1. Adding an index on a column used in an OR predicate will reduce the query cost and the execution time.\n",
    "    1. Adding a mutlicolumn index on columns in an OR predicate will reduce the query time, but not the execution cost.\n",
    "    1. Adding a mutlicolumn index on columns in an OR predicate will reduce the query cost, but not the execution time.\n",
    "    1. Adding a mutlicolumn index on columns in an OR predicate will reduce the query cost and the execution time.\n",
    "\n",
    "**Note:** Your answer should be formatted as follows: `q4e_part6 = ['A', 'B']`\n",
    "\n",
    "<!--\n",
    "BEGIN QUESTION\n",
    "name: q4evi\n",
    "points: 2\n",
    "-->"
   ]
  },
  {
   "cell_type": "code",
   "execution_count": 136,
   "metadata": {},
   "outputs": [],
   "source": [
    "q4e_part6 = ..."
   ]
  },
  {
   "cell_type": "code",
   "execution_count": null,
   "metadata": {
    "deletable": false,
    "editable": false
   },
   "outputs": [],
   "source": [
    "grader.check(\"q4evi\")"
   ]
  },
  {
   "cell_type": "markdown",
   "metadata": {
    "deletable": false,
    "editable": false
   },
   "source": [
    "<!-- BEGIN QUESTION -->\n",
    "\n",
    "#### Question 4evii\n",
    "\n",
    "Explain your answer to the previous part based on your inspection of the query plans (your explanation should include why you didn't choose certain options).\n",
    "\n",
    "<!--\n",
    "BEGIN QUESTION\n",
    "name: q4evii\n",
    "manual: true\n",
    "points: 2\n",
    "-->"
   ]
  },
  {
   "cell_type": "markdown",
   "metadata": {},
   "source": [
    "_Type your answer here, replacing this text._"
   ]
  },
  {
   "cell_type": "markdown",
   "metadata": {},
   "source": [
    "<!-- END QUESTION -->\n",
    "\n",
    "\n",
    "\n",
    "### Question 5:\n",
    "#### Question 5a:\n",
    "Write 2 queries: one that finds the minimum salary from the salary table and one that finds the average. Inspect the queries' query plans and record their execution times and costs."
   ]
  },
  {
   "cell_type": "code",
   "execution_count": 139,
   "metadata": {},
   "outputs": [],
   "source": [
    "%%sql result_5a_min << \n",
    "..."
   ]
  },
  {
   "cell_type": "code",
   "execution_count": 140,
   "metadata": {},
   "outputs": [],
   "source": [
    "result_5a_min_query_str = ...\n",
    "!psql -h localhost -d baseball -c \"explain analyze $result_5a_min_query_str\""
   ]
  },
  {
   "cell_type": "code",
   "execution_count": 141,
   "metadata": {},
   "outputs": [],
   "source": [
    "result_5a_min_query_cost = ...\n",
    "result_5a_min_query_timing = ..."
   ]
  },
  {
   "cell_type": "code",
   "execution_count": null,
   "metadata": {
    "deletable": false,
    "editable": false
   },
   "outputs": [],
   "source": [
    "grader.check(\"q5ai\")"
   ]
  },
  {
   "cell_type": "code",
   "execution_count": 143,
   "metadata": {},
   "outputs": [],
   "source": [
    "%%sql result_5a_avg <<\n",
    "..."
   ]
  },
  {
   "cell_type": "code",
   "execution_count": 144,
   "metadata": {},
   "outputs": [],
   "source": [
    "result_5a_avg_query_str = ...\n",
    "!psql -h localhost -d baseball -c \"explain analyze $result_5a_avg_query_str\""
   ]
  },
  {
   "cell_type": "code",
   "execution_count": 145,
   "metadata": {},
   "outputs": [],
   "source": [
    "result_5a_avg_query_cost = ...\n",
    "result_5a_avg_query_timing = ..."
   ]
  },
  {
   "cell_type": "code",
   "execution_count": null,
   "metadata": {
    "deletable": false,
    "editable": false
   },
   "outputs": [],
   "source": [
    "grader.check(\"q5aii\")"
   ]
  },
  {
   "cell_type": "markdown",
   "metadata": {},
   "source": [
    "#### Question 5b:\n",
    "Create an index on the `salary` column in the `salaries` table and re-inspect the query plans from the previous part and record the respective execution time and cost."
   ]
  },
  {
   "cell_type": "code",
   "execution_count": 148,
   "metadata": {},
   "outputs": [],
   "source": [
    "%%sql \n",
    "..."
   ]
  },
  {
   "cell_type": "code",
   "execution_count": 149,
   "metadata": {},
   "outputs": [],
   "source": [
    "!psql -h localhost -d baseball -c \"explain analyze $result_5a_min_query_str\""
   ]
  },
  {
   "cell_type": "code",
   "execution_count": 150,
   "metadata": {},
   "outputs": [],
   "source": [
    "result_5b_min_query_cost = ...\n",
    "result_5b_min_query_timing = ..."
   ]
  },
  {
   "cell_type": "code",
   "execution_count": null,
   "metadata": {
    "deletable": false,
    "editable": false
   },
   "outputs": [],
   "source": [
    "grader.check(\"q5bi\")"
   ]
  },
  {
   "cell_type": "code",
   "execution_count": 153,
   "metadata": {},
   "outputs": [],
   "source": [
    "!psql -h localhost -d baseball -c \"explain analyze $result_5a_avg_query_str\""
   ]
  },
  {
   "cell_type": "code",
   "execution_count": 154,
   "metadata": {},
   "outputs": [],
   "source": [
    "result_5b_avg_query_cost = ...\n",
    "result_5b_avg_query_timing = ..."
   ]
  },
  {
   "cell_type": "code",
   "execution_count": null,
   "metadata": {
    "deletable": false,
    "editable": false
   },
   "outputs": [],
   "source": [
    "grader.check(\"q5bii\")"
   ]
  },
  {
   "cell_type": "markdown",
   "metadata": {},
   "source": [
    "In the following questions, we will further explore the impact of indexes on query performance. To avoid any interference from the index on the `salary` column, drop the index before moving onto the next question."
   ]
  },
  {
   "cell_type": "code",
   "execution_count": 157,
   "metadata": {},
   "outputs": [],
   "source": [
    "%%sql \n",
    "..."
   ]
  },
  {
   "cell_type": "markdown",
   "metadata": {
    "deletable": false,
    "editable": false
   },
   "source": [
    "#### Question 5c:\n",
    "Given your findings from `Question 5a-b`, answer the following question. Assign the variable `q5c` to the correct answer choice.\n",
    "\n",
    "1. Which of the following statements is true?\n",
    "    1. An index on the column being aggregated in a query will always provide a performance enhancement.\n",
    "    1. A query finding the MIN(salary) will always benefit from an index on salary, but a query finding MAX(salary) will not.\n",
    "    1. A query finding the COUNT(salary) will always benefit from an index on salary, but a query finding AVG(salary) will not.\n",
    "    1. Queries finding the MIN(salary) or MAX(salary) will always benefit from an index on salary, but queries finding AVG(salary) or COUNT(salary) will not.\n",
    "\n",
    "*Note:* Your answer should be formatted as follows: `q5c = ['A', 'B']`\n",
    "\n",
    "<!--\n",
    "BEGIN QUESTION\n",
    "name: q5c\n",
    "points: 1\n",
    "-->"
   ]
  },
  {
   "cell_type": "code",
   "execution_count": 158,
   "metadata": {},
   "outputs": [],
   "source": [
    "q5c = ..."
   ]
  },
  {
   "cell_type": "code",
   "execution_count": null,
   "metadata": {
    "deletable": false,
    "editable": false
   },
   "outputs": [],
   "source": [
    "grader.check(\"q5c\")"
   ]
  },
  {
   "cell_type": "markdown",
   "metadata": {
    "deletable": false,
    "editable": false
   },
   "source": [
    "<!-- BEGIN QUESTION -->\n",
    "\n",
    "#### Question 5d:\n",
    "\n",
    "Explain your answer to the previous part based on your inspection of the query plans.\n",
    "\n",
    "<!--\n",
    "BEGIN QUESTION\n",
    "name: q5d\n",
    "manual: true\n",
    "points: 2\n",
    "-->"
   ]
  },
  {
   "cell_type": "markdown",
   "metadata": {},
   "source": [
    "_Type your answer here, replacing this text._"
   ]
  },
  {
   "cell_type": "markdown",
   "metadata": {},
   "source": [
    "<!-- END QUESTION -->\n",
    "\n",
    "\n",
    "\n",
    "### Question 6\n",
    "In this question, we will inspect the impact of that clustering our data on an index can have on a query's performance.\n",
    "\n",
    "#### Question 6a\n",
    "Write a query that finds the `playerid`, `yearid`, `teamid`, and `ab` for all players whose `ab` was above 500. Inspect the query plan and record the execution time and cost."
   ]
  },
  {
   "cell_type": "code",
   "execution_count": 161,
   "metadata": {},
   "outputs": [],
   "source": [
    "%%sql result_6a <<\n",
    "..."
   ]
  },
  {
   "cell_type": "code",
   "execution_count": 162,
   "metadata": {},
   "outputs": [],
   "source": [
    "# Do not delete/edit this cell\n",
    "result_6a.DataFrame().sort_values(['playerid', 'yearid', 'teamid']).iloc[:1000].to_csv('results/result_6a.csv', index=False)"
   ]
  },
  {
   "cell_type": "code",
   "execution_count": null,
   "metadata": {
    "deletable": false,
    "editable": false
   },
   "outputs": [],
   "source": [
    "grader.check(\"q6ai\")"
   ]
  },
  {
   "cell_type": "code",
   "execution_count": 165,
   "metadata": {},
   "outputs": [],
   "source": [
    "result_6a_query_str = ...\n",
    "!psql -h localhost -d baseball -c \"explain analyze $result_6a_query_str\""
   ]
  },
  {
   "cell_type": "code",
   "execution_count": 166,
   "metadata": {},
   "outputs": [],
   "source": [
    "result_6a_cost = ...\n",
    "result_6a_timing = ..."
   ]
  },
  {
   "cell_type": "code",
   "execution_count": null,
   "metadata": {
    "deletable": false,
    "editable": false
   },
   "outputs": [],
   "source": [
    "grader.check(\"q6aii\")"
   ]
  },
  {
   "cell_type": "markdown",
   "metadata": {},
   "source": [
    "#### Question 6b:\n",
    "Cluster the `batting` table on its primary key (hint: use `\\di` to find out what name of the primary key is). We are able to directly cluster on the primary key (without first creating a separate index) because Postgres automatically creates an index for it. Re-inspect the query plan for the query from `Question 6a` and record the execution time and cost."
   ]
  },
  {
   "cell_type": "code",
   "execution_count": 169,
   "metadata": {},
   "outputs": [],
   "source": [
    "%sql \\di"
   ]
  },
  {
   "cell_type": "code",
   "execution_count": 170,
   "metadata": {},
   "outputs": [],
   "source": [
    "%%sql \n",
    "..."
   ]
  },
  {
   "cell_type": "code",
   "execution_count": 171,
   "metadata": {},
   "outputs": [],
   "source": [
    "!psql -h localhost -d baseball -c \"explain analyze $result_6a_query_str\""
   ]
  },
  {
   "cell_type": "code",
   "execution_count": 172,
   "metadata": {},
   "outputs": [],
   "source": [
    "result_6b_cost = ...\n",
    "result_6b_timing = ..."
   ]
  },
  {
   "cell_type": "code",
   "execution_count": null,
   "metadata": {
    "deletable": false,
    "editable": false
   },
   "outputs": [],
   "source": [
    "grader.check(\"q6b\")"
   ]
  },
  {
   "cell_type": "markdown",
   "metadata": {},
   "source": [
    "#### Question 6c\n",
    "Now, let's try clustering the table based on another index. Create an index on `ab` column called `ab_idx` in the `batting` table and cluster the `batting` table with this new index. Now, re-inspect the query plan and record the execution time and cost."
   ]
  },
  {
   "cell_type": "code",
   "execution_count": 175,
   "metadata": {},
   "outputs": [],
   "source": [
    "%%sql \n",
    "..."
   ]
  },
  {
   "cell_type": "code",
   "execution_count": 176,
   "metadata": {},
   "outputs": [],
   "source": [
    "!psql -h localhost -d baseball -c \"explain analyze $result_6a_query_str\""
   ]
  },
  {
   "cell_type": "code",
   "execution_count": 177,
   "metadata": {},
   "outputs": [],
   "source": [
    "result_6c_cost = ...\n",
    "result_6c_timing = ..."
   ]
  },
  {
   "cell_type": "code",
   "execution_count": null,
   "metadata": {
    "deletable": false,
    "editable": false
   },
   "outputs": [],
   "source": [
    "grader.check(\"q6c\")"
   ]
  },
  {
   "cell_type": "markdown",
   "metadata": {
    "deletable": false,
    "editable": false
   },
   "source": [
    "#### Question 6d\n",
    "Given your findings from inspecting the query plans from `Question 6a-c`, answer the following question. Assign the variable `q6d` to a list of all statements that are true.\n",
    "\n",
    "1. Consider the following statements:\n",
    "    1. Clustering based on the `ab_idx` decreased the cost of the query.\n",
    "    1. Clustering based on the `ab_idx` increased the cost of the query.\n",
    "    1. Clustering based on the `ab_idx` increased the execution time of the query.\n",
    "    1. Clustering based on the `ab_idx` decreased the execution time of the query.\n",
    "    1. Clustering based on the `batting_pkey` decreased the cost of the query.\n",
    "    1. Clustering based on the `batting_pkey` increased the cost of the query.\n",
    "    1. Clustering based on the `batting_pkey` increased the execution time of the query.\n",
    "    1. Clustering based on the `batting_pkey` decreased the execution time of the query.\n",
    "    1. None of the above\n",
    "    \n",
    "**Note:** Your answer should be formatted as follows: `q6d = ['A', 'B']`\n",
    "\n",
    "<!--\n",
    "BEGIN QUESTION\n",
    "name: q6d\n",
    "points: 2\n",
    "-->"
   ]
  },
  {
   "cell_type": "code",
   "execution_count": 180,
   "metadata": {},
   "outputs": [],
   "source": [
    "q6d = ..."
   ]
  },
  {
   "cell_type": "code",
   "execution_count": null,
   "metadata": {
    "deletable": false,
    "editable": false
   },
   "outputs": [],
   "source": [
    "grader.check(\"q6d\")"
   ]
  },
  {
   "cell_type": "markdown",
   "metadata": {
    "deletable": false,
    "editable": false
   },
   "source": [
    "<!-- BEGIN QUESTION -->\n",
    "\n",
    "#### Question 6e:\n",
    "\n",
    "Explain your answer to the previous part based on your inspection of the query plans (your explanation should include why you didn't choose certain options).\n",
    "\n",
    "<!--\n",
    "BEGIN QUESTION\n",
    "name: q6e\n",
    "manual: true\n",
    "points: 2\n",
    "-->"
   ]
  },
  {
   "cell_type": "markdown",
   "metadata": {},
   "source": [
    "_Type your answer here, replacing this text._"
   ]
  },
  {
   "cell_type": "markdown",
   "metadata": {},
   "source": [
    "<!-- END QUESTION -->\n",
    "\n",
    "\n",
    "\n",
    "### Question 7\n",
    "Until now, we have seen the positive potential impact that indexes can have on query performance, but remember in real world technologies/applications, we will be routinely receiving new data (and in large quantities) which would trigger regular updates to our tables. In this section, we will dive into the cost of managing the indexes that we create.\n",
    "\n",
    "#### Question 7a:\n",
    "Record the time it takes to insert 300,000 rows into the `salaries` table when no additional index is configured."
   ]
  },
  {
   "cell_type": "markdown",
   "metadata": {},
   "source": [
    "Run the following cell to setup a column to track which rows we added as part of these inserts."
   ]
  },
  {
   "cell_type": "code",
   "execution_count": 183,
   "metadata": {},
   "outputs": [],
   "source": [
    "%sql ALTER TABLE salaries ADD added boolean DEFAULT False;"
   ]
  },
  {
   "cell_type": "markdown",
   "metadata": {},
   "source": [
    "Next, run the provided update script and record the wall time."
   ]
  },
  {
   "cell_type": "code",
   "execution_count": 184,
   "metadata": {},
   "outputs": [],
   "source": [
    "%%time\n",
    "%%sql\n",
    "DO $$\n",
    " DECLARE counter INTEGER := 1;\n",
    " BEGIN\n",
    "     FOR counter IN 100000..400000 LOOP\n",
    "     INSERT INTO salaries (yearid, teamid, lgid, playerid, salary, added)\n",
    "         VALUES (2021, 'ATL', 'NL', 'p' || counter, RANDOM() * 1000000, true);\n",
    "     END LOOP;\n",
    "END;\n",
    "$$;"
   ]
  },
  {
   "cell_type": "code",
   "execution_count": 185,
   "metadata": {},
   "outputs": [],
   "source": [
    "result_7a_timing = ..."
   ]
  },
  {
   "cell_type": "code",
   "execution_count": null,
   "metadata": {
    "deletable": false,
    "editable": false
   },
   "outputs": [],
   "source": [
    "grader.check(\"q7a\")"
   ]
  },
  {
   "cell_type": "markdown",
   "metadata": {},
   "source": [
    "Before adding an index to the salaries table and re-timing the updates, delete all the rows that were added to the table from the update script."
   ]
  },
  {
   "cell_type": "code",
   "execution_count": 187,
   "metadata": {},
   "outputs": [],
   "source": [
    "%%sql\n",
    "DELETE FROM salaries\n",
    "WHERE added = 'true';"
   ]
  },
  {
   "cell_type": "markdown",
   "metadata": {},
   "source": [
    "#### Question 7b:\n",
    "Now, create an index on the `salary` column and record the wall time after executing the update script."
   ]
  },
  {
   "cell_type": "code",
   "execution_count": 188,
   "metadata": {},
   "outputs": [],
   "source": [
    "%%sql \n",
    "..."
   ]
  },
  {
   "cell_type": "code",
   "execution_count": 189,
   "metadata": {},
   "outputs": [],
   "source": [
    "%%time\n",
    "%%sql\n",
    "DO $$\n",
    " DECLARE counter INTEGER := 1;\n",
    " BEGIN\n",
    "     FOR counter IN 100000..400000 LOOP\n",
    "     INSERT INTO salaries (yearid, teamid, lgid, playerid, salary, added)\n",
    "         VALUES (2021, 'ATL', 'NL', 'p' || counter, RANDOM() * 1000000, true);\n",
    "     END LOOP;\n",
    "END;\n",
    "$$;"
   ]
  },
  {
   "cell_type": "code",
   "execution_count": 190,
   "metadata": {},
   "outputs": [],
   "source": [
    "result_7b_timing = ..."
   ]
  },
  {
   "cell_type": "code",
   "execution_count": null,
   "metadata": {
    "deletable": false,
    "editable": false
   },
   "outputs": [],
   "source": [
    "grader.check(\"q7b\")"
   ]
  },
  {
   "cell_type": "markdown",
   "metadata": {},
   "source": [
    "## Question 8\n",
    "In this question, we will explore the benefits of bulk loading data and indexes. \n",
    "\n",
    "#### Question 8ai:\n",
    "Create a new table called `fabricated_salaries` with the following schema:\n",
    "\n",
    "Column Name | Data Type\n",
    "--- | --- \n",
    "yearid |  INTEGER\n",
    "teamid | CHARACTER VARYING(3)\n",
    "lgid | CHARACTER VARYING(2)\n",
    "playerid | CHARACTER VARYING(10)\n",
    "salary | DOUBLE PRECISION\n",
    "\n",
    "**Note:** There are no tests associated with this subpart."
   ]
  },
  {
   "cell_type": "code",
   "execution_count": 192,
   "metadata": {},
   "outputs": [],
   "source": [
    "%%sql result_8a <<\n",
    "..."
   ]
  },
  {
   "cell_type": "markdown",
   "metadata": {},
   "source": [
    "#### Question 8aii:\n",
    "Record the time it takes to copy the contents of the `fabricated_salaries.txt` into the new table. Hint: Use the psql shell comamnd `\\copy` to perform the copying (see the documentation [here](https://www.postgresql.org/docs/9.2/app-psql.html#APP-PSQL-META-COMMANDS-COPY)). Your answer should be formatted as follows: `!psql -h localhost -d baseball -c \"\\copy _REPLACE_ME_\"`."
   ]
  },
  {
   "cell_type": "code",
   "execution_count": 193,
   "metadata": {},
   "outputs": [],
   "source": [
    "# Unzip the file before copying\n",
    "!unzip -u data/salaries_trunc.zip -d data/"
   ]
  },
  {
   "cell_type": "code",
   "execution_count": 194,
   "metadata": {},
   "outputs": [],
   "source": [
    "%time\n",
    "..."
   ]
  },
  {
   "cell_type": "code",
   "execution_count": 195,
   "metadata": {},
   "outputs": [],
   "source": [
    "time_to_copy_data = ..."
   ]
  },
  {
   "cell_type": "code",
   "execution_count": null,
   "metadata": {
    "deletable": false,
    "editable": false
   },
   "outputs": [],
   "source": [
    "grader.check(\"q8aii\")"
   ]
  },
  {
   "cell_type": "markdown",
   "metadata": {},
   "source": [
    "#### Question 8aiii:\n",
    "Record the time to create an index on the `salary` column with name `fabricated_salary_idx` for the new table you created."
   ]
  },
  {
   "cell_type": "code",
   "execution_count": 197,
   "metadata": {},
   "outputs": [],
   "source": [
    "%%time\n",
    "%%sql \n",
    "..."
   ]
  },
  {
   "cell_type": "code",
   "execution_count": 198,
   "metadata": {},
   "outputs": [],
   "source": [
    "time_to_create_index = ..."
   ]
  },
  {
   "cell_type": "code",
   "execution_count": null,
   "metadata": {
    "deletable": false,
    "editable": false
   },
   "outputs": [],
   "source": [
    "grader.check(\"q8aiii\")"
   ]
  },
  {
   "cell_type": "markdown",
   "metadata": {},
   "source": [
    "### Question 8b:\n",
    "Now, create a second table called `fabricated_salaries2` with the same schema definition from `Question 8ai`. Then, record the time to run 10,000 `INSERT` statements."
   ]
  },
  {
   "cell_type": "code",
   "execution_count": 200,
   "metadata": {},
   "outputs": [],
   "source": [
    "%%sql result_8b <<\n",
    "..."
   ]
  },
  {
   "cell_type": "markdown",
   "metadata": {},
   "source": [
    "Run the following cell and record the time it takes to perform 10,000 random inserts into the table you just created."
   ]
  },
  {
   "cell_type": "code",
   "execution_count": 201,
   "metadata": {},
   "outputs": [],
   "source": [
    "%%time\n",
    "%%sql\n",
    "DO $$\n",
    " DECLARE counter INTEGER := 1;\n",
    " BEGIN\n",
    "     FOR counter IN 100001..110000 LOOP\n",
    "     INSERT INTO fabricated_salaries2 (yearid, teamid, lgid, playerid, salary)\n",
    "         VALUES (2021, 'ATL', 'NL', 'p' || counter, RANDOM() * 1000000);\n",
    "     END LOOP;\n",
    "END;\n",
    "$$;"
   ]
  },
  {
   "cell_type": "code",
   "execution_count": 202,
   "metadata": {},
   "outputs": [],
   "source": [
    "time_8b = ..."
   ]
  },
  {
   "cell_type": "code",
   "execution_count": null,
   "metadata": {
    "deletable": false,
    "editable": false
   },
   "outputs": [],
   "source": [
    "grader.check(\"q8b\")"
   ]
  },
  {
   "cell_type": "markdown",
   "metadata": {},
   "source": [
    "### Question 8c\n",
    "Now, create a third table `fabricated_salaries3` (with the same schema specified in `Question 8ai`) and create an index on the `salary` column with name `fabricated_salary3_idx`."
   ]
  },
  {
   "cell_type": "code",
   "execution_count": 204,
   "metadata": {},
   "outputs": [],
   "source": [
    "%%sql result_8c <<\n",
    "..."
   ]
  },
  {
   "cell_type": "markdown",
   "metadata": {},
   "source": [
    "Create an index on the `salary` column of the new table you created."
   ]
  },
  {
   "cell_type": "code",
   "execution_count": 205,
   "metadata": {},
   "outputs": [],
   "source": [
    "%%sql \n",
    "..."
   ]
  },
  {
   "cell_type": "markdown",
   "metadata": {},
   "source": [
    "Run the following cell and record the time it takes to perform 10,000 random inserts into the table you just created."
   ]
  },
  {
   "cell_type": "code",
   "execution_count": 206,
   "metadata": {},
   "outputs": [],
   "source": [
    "%%time\n",
    "%%sql\n",
    "DO $$\n",
    " DECLARE counter INTEGER := 1;\n",
    " BEGIN\n",
    "     FOR counter IN 100001..110000 LOOP\n",
    "     INSERT INTO fabricated_salaries3 (yearid, teamid, lgid, playerid, salary)\n",
    "         VALUES (2021, 'ATL', 'NL', 'p' || counter, RANDOM() * 1000000);\n",
    "     END LOOP;\n",
    " END;\n",
    "$$;"
   ]
  },
  {
   "cell_type": "code",
   "execution_count": 207,
   "metadata": {},
   "outputs": [],
   "source": [
    "time_8c = ..."
   ]
  },
  {
   "cell_type": "code",
   "execution_count": null,
   "metadata": {
    "deletable": false,
    "editable": false
   },
   "outputs": [],
   "source": [
    "grader.check(\"q8c\")"
   ]
  },
  {
   "cell_type": "markdown",
   "metadata": {},
   "source": [
    "### Question 8d\n",
    "Now, write an update query that adds $5,000 to every salary entry in the table you created in `Question 8ai`. Record the time it takes to execute the query."
   ]
  },
  {
   "cell_type": "code",
   "execution_count": 209,
   "metadata": {},
   "outputs": [],
   "source": [
    "%%time\n",
    "%%sql\n",
    "..."
   ]
  },
  {
   "cell_type": "code",
   "execution_count": 210,
   "metadata": {},
   "outputs": [],
   "source": [
    "time_8d = ..."
   ]
  },
  {
   "cell_type": "code",
   "execution_count": null,
   "metadata": {
    "deletable": false,
    "editable": false
   },
   "outputs": [],
   "source": [
    "grader.check(\"q8d\")"
   ]
  },
  {
   "cell_type": "markdown",
   "metadata": {},
   "source": [
    "## Question 8e\n",
    "Let's compare the time from the previous part with the time it takes to drop the index, run the same update query from `Question 8c`, and then recreate the index."
   ]
  },
  {
   "cell_type": "code",
   "execution_count": 212,
   "metadata": {},
   "outputs": [],
   "source": [
    "%%time\n",
    "%%sql\n",
    "BEGIN;\n",
    "...\n",
    "COMMIT"
   ]
  },
  {
   "cell_type": "code",
   "execution_count": 213,
   "metadata": {},
   "outputs": [],
   "source": [
    "time_8e = ..."
   ]
  },
  {
   "cell_type": "code",
   "execution_count": null,
   "metadata": {
    "deletable": false,
    "editable": false
   },
   "outputs": [],
   "source": [
    "grader.check(\"q8e\")"
   ]
  },
  {
   "cell_type": "markdown",
   "metadata": {},
   "source": [
    "## Congratulations! You have finished Project 2.\n",
    "\n",
    "Run the following cell to zip the results of your queries. You will also need to run the export cell at the end of the notebook. **For submission on Gradescope, you will need to submit both the proj2.zip file genreated by the export cell and the results.zip file generated by the following cell.**"
   ]
  },
  {
   "cell_type": "code",
   "execution_count": 215,
   "metadata": {
    "deletable": false,
    "editable": false
   },
   "outputs": [],
   "source": [
    "!zip -r results.zip results"
   ]
  },
  {
   "cell_type": "markdown",
   "metadata": {
    "deletable": false,
    "editable": false
   },
   "source": [
    "---\n",
    "\n",
    "To double-check your work, the cell below will rerun all of the autograder tests."
   ]
  },
  {
   "cell_type": "code",
   "execution_count": null,
   "metadata": {
    "deletable": false,
    "editable": false
   },
   "outputs": [],
   "source": [
    "grader.check_all()"
   ]
  },
  {
   "cell_type": "markdown",
   "metadata": {
    "deletable": false,
    "editable": false
   },
   "source": [
    "## Submission\n",
    "\n",
    "Make sure you have run all cells in your notebook in order before running the cell below, so that all images/graphs appear in the output. The cell below will generate a zip file for you to submit. **Please save before exporting!**"
   ]
  },
  {
   "cell_type": "code",
   "execution_count": null,
   "metadata": {
    "deletable": false,
    "editable": false
   },
   "outputs": [],
   "source": [
    "# Save your notebook first, then run this cell to export your submission.\n",
    "grader.export()"
   ]
  },
  {
   "cell_type": "markdown",
   "metadata": {},
   "source": [
    " "
   ]
  }
 ],
 "metadata": {
  "kernelspec": {
   "display_name": "Python 3",
   "language": "python",
   "name": "python3"
  },
  "language_info": {
   "codemirror_mode": {
    "name": "ipython",
    "version": 3
   },
   "file_extension": ".py",
   "mimetype": "text/x-python",
   "name": "python",
   "nbconvert_exporter": "python",
   "pygments_lexer": "ipython3",
   "version": "3.8.6"
  }
 },
 "nbformat": 4,
 "nbformat_minor": 4
}
